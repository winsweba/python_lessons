{
 "cells": [
  {
   "cell_type": "markdown",
   "id": "e2896308-5b83-40b0-afa5-99a163aae748",
   "metadata": {},
   "source": [
    "# Python fundamentals"
   ]
  },
  {
   "cell_type": "markdown",
   "id": "33a720af-0b50-49c9-ab0e-0416b445d58f",
   "metadata": {},
   "source": [
    "## Primitive Data types"
   ]
  },
  {
   "cell_type": "code",
   "execution_count": 1,
   "id": "d6f0ad78-8d48-4a19-af31-888301f0502a",
   "metadata": {},
   "outputs": [
    {
     "name": "stdout",
     "output_type": "stream",
     "text": [
      "Hi win\n",
      "hi win\n",
      "2.783583\n",
      "64545345\n",
      "True\n"
     ]
    }
   ],
   "source": [
    "print(\"Hi win\")\n",
    "print('hi win')\n",
    "print(2.783583)\n",
    "print(64545345)\n",
    "print(True)"
   ]
  },
  {
   "cell_type": "markdown",
   "id": "c9a0b30e-034d-48be-8338-05e6bf2b0003",
   "metadata": {},
   "source": [
    "## How to name a variables in python"
   ]
  },
  {
   "cell_type": "markdown",
   "id": "353fc39d-deeb-4ce1-b608-cc75f3b49236",
   "metadata": {},
   "source": [
    "## Strings\n",
    "#### A string is a sequence of characters enclosed in either single quotes ('') or double quotes (“”)."
   ]
  },
  {
   "cell_type": "code",
   "execution_count": 8,
   "id": "9f633730-d016-4e61-8a15-34681a833f43",
   "metadata": {},
   "outputs": [],
   "source": [
    "name = 'Winchester'\n",
    "game = 'God of war'\n",
    "numStr = '123465' "
   ]
  },
  {
   "cell_type": "code",
   "execution_count": 9,
   "id": "29697c1f-059a-4efc-8c67-f926750bc623",
   "metadata": {},
   "outputs": [
    {
     "name": "stdout",
     "output_type": "stream",
     "text": [
      "Winchester\n",
      "God of war\n",
      "123465\n"
     ]
    }
   ],
   "source": [
    "print(name)\n",
    "print(game)\n",
    "print(numStr)"
   ]
  },
  {
   "cell_type": "code",
   "execution_count": 11,
   "id": "49259b0b-d9c8-45b6-b671-dcc596cec4f8",
   "metadata": {},
   "outputs": [
    {
     "name": "stdout",
     "output_type": "stream",
     "text": [
      "<class 'str'>\n",
      "<class 'str'>\n",
      "<class 'str'>\n"
     ]
    }
   ],
   "source": [
    "print(type(name))\n",
    "print(type(game))\n",
    "print(type(numStr))"
   ]
  },
  {
   "cell_type": "markdown",
   "id": "fb556855-1267-44dd-b87d-34d6e8a4a663",
   "metadata": {},
   "source": [
    "## Int, or integer, is a whole number, positive or negative, without decimals, of unlimited length,\n",
    "## Floating point numbers are decimal values or fractional numbers like 33.55,\n",
    "## A Boolean value is either true or false. In Python, the two Boolean values are True and False, and the Python type is bool"
   ]
  },
  {
   "cell_type": "code",
   "execution_count": 9,
   "id": "35e39f8e-33d8-492c-837d-28d57d1b4eca",
   "metadata": {},
   "outputs": [],
   "source": [
    "my_num = 1000"
   ]
  },
  {
   "cell_type": "code",
   "execution_count": 11,
   "id": "2e850fbe-03c9-4d1c-8924-1625c5042110",
   "metadata": {},
   "outputs": [
    {
     "data": {
      "text/plain": [
       "int"
      ]
     },
     "execution_count": 11,
     "metadata": {},
     "output_type": "execute_result"
    }
   ],
   "source": [
    "type(my_num)"
   ]
  },
  {
   "cell_type": "code",
   "execution_count": 12,
   "id": "f0ab879f-5de7-4b1a-8588-40c7ee3cff78",
   "metadata": {},
   "outputs": [],
   "source": [
    "my_float = 2.66565"
   ]
  },
  {
   "cell_type": "code",
   "execution_count": 13,
   "id": "a467d846-36db-446f-b057-89db0b75e619",
   "metadata": {},
   "outputs": [
    {
     "data": {
      "text/plain": [
       "float"
      ]
     },
     "execution_count": 13,
     "metadata": {},
     "output_type": "execute_result"
    }
   ],
   "source": [
    "type(my_float)"
   ]
  },
  {
   "cell_type": "code",
   "execution_count": 14,
   "id": "78a1ab9f-0366-40e9-bd1e-05abe9fc0907",
   "metadata": {},
   "outputs": [],
   "source": [
    "my_boo = True"
   ]
  },
  {
   "cell_type": "code",
   "execution_count": 15,
   "id": "7852684e-e791-44df-a8fa-5f7d74b87ada",
   "metadata": {},
   "outputs": [
    {
     "data": {
      "text/plain": [
       "bool"
      ]
     },
     "execution_count": 15,
     "metadata": {},
     "output_type": "execute_result"
    }
   ],
   "source": [
    "type(my_boo)"
   ]
  },
  {
   "cell_type": "markdown",
   "id": "e8e5f9db-4a94-47fe-a4a4-1a746fda6808",
   "metadata": {},
   "source": [
    "# Non primitive data\n",
    "## These data structures store values, as well as a collection of values, in varying formats\n",
    "##  lists, tuples, dictionaries,"
   ]
  },
  {
   "cell_type": "markdown",
   "id": "87b550cc-ad7c-4e14-bbe8-d28b6fee941d",
   "metadata": {},
   "source": [
    "## A list is a data structure in Python that is a mutable, or changeable, ordered sequence of elements"
   ]
  },
  {
   "cell_type": "code",
   "execution_count": 17,
   "id": "fe3b620d-61ba-4aab-86bc-b8aaf345257b",
   "metadata": {},
   "outputs": [
    {
     "data": {
      "text/plain": [
       "['Dog', 'Cat', 'Caw', 'Goat']"
      ]
     },
     "execution_count": 17,
     "metadata": {},
     "output_type": "execute_result"
    }
   ],
   "source": [
    "[\"Dog\", \"Cat\", \"Caw\",\"Goat\"]"
   ]
  },
  {
   "cell_type": "code",
   "execution_count": 18,
   "id": "469b7eaa-965b-4ae3-a358-0913f243e773",
   "metadata": {},
   "outputs": [],
   "source": [
    "my_animals = [\"Dog\", \"Cat\", \"Caw\",\"Goat\"]"
   ]
  },
  {
   "cell_type": "code",
   "execution_count": 19,
   "id": "3906ee50-93d8-4f68-b5af-21720a52a09b",
   "metadata": {},
   "outputs": [
    {
     "data": {
      "text/plain": [
       "list"
      ]
     },
     "execution_count": 19,
     "metadata": {},
     "output_type": "execute_result"
    }
   ],
   "source": [
    "type(my_animals)"
   ]
  },
  {
   "cell_type": "code",
   "execution_count": 22,
   "id": "f53246b8-aed6-4123-85a9-e35328e30048",
   "metadata": {},
   "outputs": [
    {
     "name": "stdout",
     "output_type": "stream",
     "text": [
      "Dog\n",
      "Cat\n",
      "Caw\n",
      "Goat\n"
     ]
    }
   ],
   "source": [
    "print(my_animals[0])\n",
    "print(my_animals[1])\n",
    "print(my_animals[2])\n",
    "print(my_animals[3])"
   ]
  },
  {
   "cell_type": "code",
   "execution_count": 23,
   "id": "e3791b0c-15ff-49a5-9cfa-5eb2d551a54b",
   "metadata": {},
   "outputs": [],
   "source": [
    "my_animals[1] = \"something\""
   ]
  },
  {
   "cell_type": "code",
   "execution_count": 24,
   "id": "958b0eab-934a-400e-8cae-fe7a34f21137",
   "metadata": {},
   "outputs": [
    {
     "data": {
      "text/plain": [
       "['Dog', 'something', 'Caw', 'Goat']"
      ]
     },
     "execution_count": 24,
     "metadata": {},
     "output_type": "execute_result"
    }
   ],
   "source": [
    "my_animals"
   ]
  },
  {
   "cell_type": "markdown",
   "id": "2d7ceaf5-5dc4-4ed8-97b6-f2f57cd03bef",
   "metadata": {},
   "source": [
    "## Python tuples are a type of data structure that is very similar to lists. The main difference between the two is that tuples are immutable"
   ]
  },
  {
   "cell_type": "code",
   "execution_count": 13,
   "id": "73eb9b0a-09e5-4130-bc0d-cb307dae6350",
   "metadata": {},
   "outputs": [],
   "source": [
    "animals = (\"Dog\", \"Cat\", \"Caw\",\"Goat\")"
   ]
  },
  {
   "cell_type": "code",
   "execution_count": 14,
   "id": "14a97baa-7daa-45e3-a08b-0bc0ece2d171",
   "metadata": {},
   "outputs": [
    {
     "data": {
      "text/plain": [
       "tuple"
      ]
     },
     "execution_count": 14,
     "metadata": {},
     "output_type": "execute_result"
    }
   ],
   "source": [
    "type(animals)"
   ]
  },
  {
   "cell_type": "markdown",
   "id": "20ede5b7-a8f1-4611-8a7e-6f3ce9921b21",
   "metadata": {},
   "source": [
    "print(animals[0])\n",
    "print(animals[1])\n",
    "print(animals[2])\n",
    "print(animals[3])"
   ]
  },
  {
   "cell_type": "code",
   "execution_count": 28,
   "id": "6e1b4c06-8b43-4a2a-a603-297502850919",
   "metadata": {},
   "outputs": [
    {
     "ename": "TypeError",
     "evalue": "'tuple' object does not support item assignment",
     "output_type": "error",
     "traceback": [
      "\u001b[0;31m---------------------------------------------------------------------------\u001b[0m",
      "\u001b[0;31mTypeError\u001b[0m                                 Traceback (most recent call last)",
      "Cell \u001b[0;32mIn[28], line 1\u001b[0m\n\u001b[0;32m----> 1\u001b[0m \u001b[43manimals\u001b[49m\u001b[43m[\u001b[49m\u001b[38;5;241;43m1\u001b[39;49m\u001b[43m]\u001b[49m \u001b[38;5;241m=\u001b[39m \u001b[38;5;124m\"\u001b[39m\u001b[38;5;124msomething\u001b[39m\u001b[38;5;124m\"\u001b[39m\n",
      "\u001b[0;31mTypeError\u001b[0m: 'tuple' object does not support item assignment"
     ]
    }
   ],
   "source": [
    "animals[1] = \"something\""
   ]
  },
  {
   "cell_type": "markdown",
   "id": "5b924a65-bb7c-4397-902d-32a036595352",
   "metadata": {},
   "source": [
    "## A Python dictionary is a collection of key:value pairs"
   ]
  },
  {
   "cell_type": "code",
   "execution_count": 38,
   "id": "fbb5031b-f47c-4509-b9ee-f1957dcc22bb",
   "metadata": {},
   "outputs": [],
   "source": [
    "post = {\n",
    "    \"key\": \"Value\",\n",
    "    \"userId\": 1,\n",
    "    \"id\": 1,\n",
    "    \"title\": \"sunt aut facere repellat provident occaecati excepturi optio reprehenderit\",\n",
    "    \"body\": \"reprehenderit molestiae ut ut quas totam\\nnostrum rerum est autem sunt rem eveniet architecto\",\n",
    "    2: \"Two\"\n",
    "  }"
   ]
  },
  {
   "cell_type": "code",
   "execution_count": 34,
   "id": "12a1962f-c28d-42a9-99ce-0bf2834840b9",
   "metadata": {},
   "outputs": [
    {
     "data": {
      "text/plain": [
       "dict"
      ]
     },
     "execution_count": 34,
     "metadata": {},
     "output_type": "execute_result"
    }
   ],
   "source": [
    "type(post)"
   ]
  },
  {
   "cell_type": "code",
   "execution_count": 39,
   "id": "999e88c6-077a-4193-bd98-65d3ecf03d61",
   "metadata": {},
   "outputs": [
    {
     "name": "stdout",
     "output_type": "stream",
     "text": [
      "Value\n",
      "sunt aut facere repellat provident occaecati excepturi optio reprehenderit\n",
      "Two\n"
     ]
    }
   ],
   "source": [
    "print(post[\"key\"])\n",
    "print(post[\"title\"])\n",
    "print(post[2])"
   ]
  },
  {
   "cell_type": "markdown",
   "id": "7cf812ce-d8b7-4855-994f-8c87fca0693e",
   "metadata": {},
   "source": [
    "## Python programming to test multiple conditions."
   ]
  },
  {
   "cell_type": "code",
   "execution_count": 47,
   "id": "c464ae5c-7517-4e88-a1cf-42c093d77e8c",
   "metadata": {},
   "outputs": [],
   "source": [
    "# creating account\n",
    "\n",
    "# user one \n",
    "password = \"12345\"\n",
    "\n",
    "# user two\n",
    "password = \"23dsds\""
   ]
  },
  {
   "cell_type": "code",
   "execution_count": 42,
   "id": "4862fb79-7805-4fb4-b638-ca0546d0c190",
   "metadata": {},
   "outputs": [
    {
     "name": "stdout",
     "output_type": "stream",
     "text": [
      "You are Welcome\n"
     ]
    }
   ],
   "source": [
    "if password == \"12345\":\n",
    "    print(\"You are Welcome\")\n",
    "else:\n",
    "    print(\"Try agin\")"
   ]
  },
  {
   "cell_type": "code",
   "execution_count": 48,
   "id": "0f614284-866e-46a8-8a89-42da6d99609d",
   "metadata": {},
   "outputs": [
    {
     "name": "stdout",
     "output_type": "stream",
     "text": [
      "User two\n"
     ]
    }
   ],
   "source": [
    "if password == \"12345\":\n",
    "    print(\"User One\")\n",
    "elif password == \"23dsds\":\n",
    "    print(\"User two\")\n",
    "else:\n",
    "    print(\"Try agin\")"
   ]
  },
  {
   "cell_type": "code",
   "execution_count": 55,
   "id": "6a638a2d-09ed-4782-841a-f4553e961b7e",
   "metadata": {},
   "outputs": [],
   "source": [
    "myNum = 10"
   ]
  },
  {
   "cell_type": "code",
   "execution_count": 56,
   "id": "6dd71fd7-a75f-480e-b552-426d400cd2b9",
   "metadata": {},
   "outputs": [
    {
     "name": "stdout",
     "output_type": "stream",
     "text": [
      "out of range\n"
     ]
    }
   ],
   "source": [
    "if myNum == 1:\n",
    "    print(\"User One\")\n",
    "elif myNum == 2:\n",
    "    print(\"User two\")\n",
    "elif myNum == 3:\n",
    "    print(\"User three\")\n",
    "elif myNum == 4:\n",
    "    print(\"User Four\")\n",
    "else:\n",
    "    print(\"out of range\")"
   ]
  },
  {
   "cell_type": "markdown",
   "id": "92bb85d0-5fd4-4051-9279-a6d315be3940",
   "metadata": {},
   "source": [
    "#  in C++ cout<<, but in python print()\n",
    "# in C++ cin>>, but python intput()"
   ]
  },
  {
   "cell_type": "markdown",
   "id": "586322a6-8974-42fa-85e3-312a58384b90",
   "metadata": {},
   "source": [
    "## Looping means repeating something over and over until a particular condition is satisfied"
   ]
  },
  {
   "cell_type": "code",
   "execution_count": 16,
   "id": "c92a723c-398a-4b7d-a4bb-cdc67e4cd1d5",
   "metadata": {},
   "outputs": [
    {
     "name": "stdout",
     "output_type": "stream",
     "text": [
      "0\n",
      "1\n",
      "2\n",
      "3\n",
      "4\n",
      "5\n",
      "6\n",
      "7\n",
      "8\n",
      "9\n",
      "10\n"
     ]
    }
   ],
   "source": [
    "for anyNum in range(11):\n",
    "    print(anyNum)"
   ]
  },
  {
   "cell_type": "code",
   "execution_count": 81,
   "id": "ad653f49-cbb6-4ff7-9da8-cec4fd9f9f8e",
   "metadata": {},
   "outputs": [
    {
     "name": "stdout",
     "output_type": "stream",
     "text": [
      "8\n",
      "9\n",
      "10\n",
      "11\n",
      "12\n",
      "13\n",
      "14\n",
      "15\n",
      "16\n",
      "17\n",
      "18\n",
      "19\n",
      "20\n"
     ]
    }
   ],
   "source": [
    "for anyNum in range(8, 21):\n",
    "    print(anyNum)"
   ]
  },
  {
   "cell_type": "code",
   "execution_count": 17,
   "id": "281a6f35-553d-4729-b4fb-f8ee392442cc",
   "metadata": {},
   "outputs": [],
   "source": [
    "listA = [\"Dog\", \"Cat\", \"Caw\",\"Goat\", \"win\", \"food\", \"good\"]"
   ]
  },
  {
   "cell_type": "code",
   "execution_count": 18,
   "id": "9f0a68f9-4e97-4c17-b1b6-68cb7000003b",
   "metadata": {},
   "outputs": [
    {
     "data": {
      "text/plain": [
       "7"
      ]
     },
     "execution_count": 18,
     "metadata": {},
     "output_type": "execute_result"
    }
   ],
   "source": [
    "len(listA)"
   ]
  },
  {
   "cell_type": "code",
   "execution_count": 19,
   "id": "f915229c-4b37-477e-aa6f-df8c728b5f0c",
   "metadata": {},
   "outputs": [
    {
     "name": "stdout",
     "output_type": "stream",
     "text": [
      "Dog\n",
      "Cat\n",
      "Caw\n",
      "Goat\n",
      "win\n",
      "food\n",
      "good\n"
     ]
    }
   ],
   "source": [
    "for index in range(len(listA)):\n",
    "    print(listA[index])"
   ]
  },
  {
   "cell_type": "code",
   "execution_count": 20,
   "id": "b13bc87e-2e0f-4295-ba71-2bf448997231",
   "metadata": {},
   "outputs": [
    {
     "name": "stdout",
     "output_type": "stream",
     "text": [
      "Dog 0\n",
      "Cat 1\n",
      "Caw 2\n",
      "Goat 3\n",
      "win 4\n",
      "food 5\n",
      "good 6\n"
     ]
    }
   ],
   "source": [
    "for index in range(len(listA)):\n",
    "    print(listA[index], index)"
   ]
  }
 ],
 "metadata": {
  "kernelspec": {
   "display_name": "Python 3 (ipykernel)",
   "language": "python",
   "name": "python3"
  },
  "language_info": {
   "codemirror_mode": {
    "name": "ipython",
    "version": 3
   },
   "file_extension": ".py",
   "mimetype": "text/x-python",
   "name": "python",
   "nbconvert_exporter": "python",
   "pygments_lexer": "ipython3",
   "version": "3.12.5"
  }
 },
 "nbformat": 4,
 "nbformat_minor": 5
}
